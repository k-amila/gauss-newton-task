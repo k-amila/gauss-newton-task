{
 "cells": [
  {
   "cell_type": "code",
   "execution_count": 2,
   "id": "054dc8ce",
   "metadata": {},
   "outputs": [],
   "source": [
    "import pandas as pd\n",
    "import numpy as np\n",
    "import matplotlib.pyplot as plt\n",
    "import math"
   ]
  },
  {
   "cell_type": "code",
   "execution_count": 3,
   "id": "b7e22d2c",
   "metadata": {},
   "outputs": [],
   "source": [
    "df = pd.read_csv('data_gn_challenge.csv')"
   ]
  },
  {
   "cell_type": "code",
   "execution_count": 4,
   "id": "225090a6",
   "metadata": {},
   "outputs": [
    {
     "data": {
      "text/html": [
       "<div>\n",
       "<style scoped>\n",
       "    .dataframe tbody tr th:only-of-type {\n",
       "        vertical-align: middle;\n",
       "    }\n",
       "\n",
       "    .dataframe tbody tr th {\n",
       "        vertical-align: top;\n",
       "    }\n",
       "\n",
       "    .dataframe thead th {\n",
       "        text-align: right;\n",
       "    }\n",
       "</style>\n",
       "<table border=\"1\" class=\"dataframe\">\n",
       "  <thead>\n",
       "    <tr style=\"text-align: right;\">\n",
       "      <th></th>\n",
       "      <th>project_id</th>\n",
       "      <th>x</th>\n",
       "      <th>y</th>\n",
       "      <th>y2</th>\n",
       "    </tr>\n",
       "  </thead>\n",
       "  <tbody>\n",
       "    <tr>\n",
       "      <th>0</th>\n",
       "      <td>6</td>\n",
       "      <td>20494.935542</td>\n",
       "      <td>0.999821</td>\n",
       "      <td>0.000179</td>\n",
       "    </tr>\n",
       "    <tr>\n",
       "      <th>1</th>\n",
       "      <td>6</td>\n",
       "      <td>20746.047063</td>\n",
       "      <td>0.999821</td>\n",
       "      <td>0.000179</td>\n",
       "    </tr>\n",
       "    <tr>\n",
       "      <th>2</th>\n",
       "      <td>6</td>\n",
       "      <td>20986.656735</td>\n",
       "      <td>0.999813</td>\n",
       "      <td>0.000187</td>\n",
       "    </tr>\n",
       "    <tr>\n",
       "      <th>3</th>\n",
       "      <td>6</td>\n",
       "      <td>21259.179906</td>\n",
       "      <td>0.999836</td>\n",
       "      <td>0.000164</td>\n",
       "    </tr>\n",
       "    <tr>\n",
       "      <th>4</th>\n",
       "      <td>6</td>\n",
       "      <td>21521.609276</td>\n",
       "      <td>0.999842</td>\n",
       "      <td>0.000158</td>\n",
       "    </tr>\n",
       "  </tbody>\n",
       "</table>\n",
       "</div>"
      ],
      "text/plain": [
       "   project_id             x         y        y2\n",
       "0           6  20494.935542  0.999821  0.000179\n",
       "1           6  20746.047063  0.999821  0.000179\n",
       "2           6  20986.656735  0.999813  0.000187\n",
       "3           6  21259.179906  0.999836  0.000164\n",
       "4           6  21521.609276  0.999842  0.000158"
      ]
     },
     "execution_count": 4,
     "metadata": {},
     "output_type": "execute_result"
    }
   ],
   "source": [
    "df.head()"
   ]
  },
  {
   "cell_type": "code",
   "execution_count": 5,
   "id": "75444506",
   "metadata": {},
   "outputs": [],
   "source": [
    "df.x = df.x/85000"
   ]
  },
  {
   "cell_type": "code",
   "execution_count": 48,
   "id": "7a419416",
   "metadata": {},
   "outputs": [],
   "source": [
    "df8 = df[df.project_id == 8]\n",
    "df6 = df[df.project_id == 6]\n",
    "df7 = df[df.project_id == 7]\n",
    "df9 = df[df.project_id == 9]\n",
    "df10 = df[df.project_id == 10]\n",
    "df11 = df[df.project_id == 11]"
   ]
  },
  {
   "cell_type": "code",
   "execution_count": 50,
   "id": "76a4fd33",
   "metadata": {},
   "outputs": [
    {
     "data": {
      "text/plain": [
       "<matplotlib.collections.PathCollection at 0x1185e7d90>"
      ]
     },
     "execution_count": 50,
     "metadata": {},
     "output_type": "execute_result"
    },
    {
     "data": {
      "image/png": "[encoded data removed]",
      "text/plain": [
       "<Figure size 432x288 with 1 Axes>"
      ]
     },
     "metadata": {
      "needs_background": "light"
     },
     "output_type": "display_data"
    }
   ],
   "source": [
    "plt.scatter(df8.x[0:12], df8.y[0:12])\n",
    "plt.scatter(df6.x[0:12], df6.y[0:12])\n",
    "plt.scatter(df7.x[0:12], df7.y[0:12])\n",
    "plt.scatter(df9.x[0:12], df9.y[0:12])\n",
    "plt.scatter(df10.x[0:12], df10.y[0:12])\n",
    "plt.scatter(df11.x[0:12], df11.y[0:12])\n",
    "# plt.scatter(df8.x, df8.y)"
   ]
  },
  {
   "cell_type": "code",
   "execution_count": 9,
   "id": "6da78694",
   "metadata": {},
   "outputs": [],
   "source": [
    "def gauss_newton(X, Y, f, de_dp, P_init, P_acc):\n",
    "    assert len(X) == len(Y), \"The length of X and Y should match\"\n",
    "    assert len(de_dp) == len(P_init), \"The number of parameters and partial derivatives should match\"\n",
    "    \n",
    "    J = np.zeros(shape=(len(X), len(de_dp)))\n",
    "    E = np.zeros(shape=(len(X), 1))\n",
    "    \n",
    "    P_cur = P_init\n",
    "    \n",
    "    while True:\n",
    "        for i in range(len(X)):\n",
    "            for j in range(len(de_dp)):\n",
    "                J[i][j] = de_dp[j](P_cur, X[i])\n",
    "            E[i] = Y[i] - f(P_cur, X[i])\n",
    "\n",
    "        pinvJ = np.linalg.pinv(J)\n",
    "        step = np.matmul(pinvJ, E)\n",
    "        P_next = np.subtract(P_cur, step)\n",
    "        P_abs_diff = np.linalg.norm(np.subtract(P_cur, P_next))\n",
    "        if P_abs_diff < P_acc:\n",
    "            return P_next\n",
    "        P_cur = P_next "
   ]
  },
  {
   "cell_type": "code",
   "execution_count": 104,
   "id": "436a856c",
   "metadata": {},
   "outputs": [],
   "source": [
    "# P - the vector of parameters to optimize over\n",
    "\n",
    "def f(P, x):\n",
    "    a, b, c = P\n",
    "    return a * math.exp(b * (x + a)) + c\n",
    "\n",
    "# e = y - f(P, x)\n",
    "    \n",
    "def de_da(P, x):\n",
    "    a, b, c = P\n",
    "    return - math.exp(b * (x + a)) * (a * b + 1)\n",
    "\n",
    "def de_db(P, x):\n",
    "    a, b, c = P\n",
    "    return - a * (x + a) * math.exp(b * (x + a))\n",
    "\n",
    "def de_dc(P, x):\n",
    "    return -1."
   ]
  },
  {
   "cell_type": "markdown",
   "id": "3045695e",
   "metadata": {},
   "source": [
    "The initial guess can be obtained based on \n",
    "\n",
    "1. the physical meaning of the parameters\n",
    "\n",
    "2. based on the first N data points (maybe points should be taken from the middle of the dataset) an interpolation    polynomial of degree N is constructed\n",
    "\n",
    "   using the Taylor formula, the original function approaches a polynomial of degree N\n",
    "   \n",
    "   equate the coefficients of the corresponding powers of the first and second polynomial\n",
    "   \n",
    "   a system of power equations for the coefficients of the original function is obtained\n",
    "   \n",
    "   solution of this system - initial guess\n",
    "   \n",
    "   if for a given initial guess the solution does not have the necessary convergence, we can consider points near\n",
    "   the calculated initial\n",
    "   \n",
    "3. linearize the initial function \n",
    "    \n",
    "   based on the dataset get an overdetermined system of equations for the coefficients of the original\n",
    "   \n",
    "   this system can be solved by numerical methods\n",
    "   \n",
    "\n",
    "before selecting the initial guess, it is necessary to conduct a qualitative assessment of the dataset and choose the most appropriate way of selection\n"
   ]
  },
  {
   "cell_type": "code",
   "execution_count": 203,
   "id": "c5d3dd3e",
   "metadata": {},
   "outputs": [],
   "source": [
    "# initial guess based on the interpolation polynomial\n",
    "def init_guess_by_interpolation(X, Y): \n",
    "    b0 = Y[0]\n",
    "    b1 = (Y[1] - Y[0])/(X[1] - X[0])\n",
    "    b2 = ((Y[2] - Y[1])/(X[2] - X[1]) - b1)/(X[2] - X[0])\n",
    "    D = 1 + 4 * (b1 - b2 * ( X[1] + X[0]))\n",
    "    if D < 0:\n",
    "        D = 0\n",
    "    b = 2*b2/((-1 + math.sqrt(D))/2)\n",
    "    a = ((-1 + math.sqrt(D))/2)/b\n",
    "    c = b0 - b1 * X[0] + b2 * X[1] * X[0] - a**2 * b - a**3 * b**2 / 2\n",
    "    return np.array([a, b, c])"
   ]
  },
  {
   "cell_type": "code",
   "execution_count": 214,
   "id": "37bf7a63",
   "metadata": {},
   "outputs": [],
   "source": [
    "# initial guess based on the linearization of the initial function \n",
    "def init_guess_by_linearization(X, Y):\n",
    "    A = np.zeros(shape=(len(X), 3))\n",
    "    b = np.zeros(shape=(len(X), 1))\n",
    "    for i in range(len(X)):\n",
    "        A[i][0] = X[i]\n",
    "        A[i][1] = 1.\n",
    "        A[i][2] = 1.\n",
    "        b[i][0] = Y[i]\n",
    "    \n",
    "    p, q, c = np.linalg.lstsq(A, b, rcond=None)[0]\n",
    "    a = p / q\n",
    "    b = p / a\n",
    "    return np.array([a, b, c])"
   ]
  },
  {
   "cell_type": "code",
   "execution_count": 211,
   "id": "232137e2",
   "metadata": {},
   "outputs": [],
   "source": [
    "def calc_r2(Y, Y_ans):\n",
    "    y_mean = np.mean(Y)\n",
    "    SS_res = 0\n",
    "    SS_tot = 0\n",
    "    for i in range(len(Y)):\n",
    "        SS_res += (Y[i] - Y_ans[i]) ** 2\n",
    "        SS_tot += (Y[i] - y_mean) ** 2\n",
    "    return 1 - SS_res / SS_tot"
   ]
  },
  {
   "cell_type": "code",
   "execution_count": 202,
   "id": "1d1aa974",
   "metadata": {},
   "outputs": [],
   "source": [
    "X = df8.x[:12].tolist()\n",
    "Y = df8.y[:12].tolist()"
   ]
  },
  {
   "cell_type": "code",
   "execution_count": 206,
   "id": "d86922b4",
   "metadata": {},
   "outputs": [
    {
     "name": "stdout",
     "output_type": "stream",
     "text": [
      "[[ -0.02418698]\n",
      " [-12.09386224]\n",
      " [  0.9998544 ]]\n"
     ]
    }
   ],
   "source": [
    "# P_init = np.array([[0.1], [-20.], [1.]])\n",
    "# P_init = init_guess_by_interpolation(X[0:3], Y[0:3])\n",
    "P_init = init_guess_by_linearization(X, Y)\n",
    "de_dp = [de_da, de_db, de_dc]\n",
    "P_acc = 1e-12\n",
    "P_ans = gauss_newton(X, Y, f, de_dp, P_init, P_acc)\n",
    "print(P_ans)"
   ]
  },
  {
   "cell_type": "code",
   "execution_count": 212,
   "id": "796514c0",
   "metadata": {},
   "outputs": [
    {
     "name": "stdout",
     "output_type": "stream",
     "text": [
      "[0.94970767]\n"
     ]
    }
   ],
   "source": [
    "Y_ans = [f(P_ans, x) for x in X]\n",
    "print(calc_r2(Y, Y_ans))"
   ]
  },
  {
   "cell_type": "code",
   "execution_count": 213,
   "id": "0df2fdd6",
   "metadata": {},
   "outputs": [
    {
     "data": {
      "text/plain": [
       "[<matplotlib.lines.Line2D at 0x11b7a2bb0>]"
      ]
     },
     "execution_count": 213,
     "metadata": {},
     "output_type": "execute_result"
    },
    {
     "data": {
      "image/png": "[encoded data removed]",
      "text/plain": [
       "<Figure size 432x288 with 1 Axes>"
      ]
     },
     "metadata": {
      "needs_background": "light"
     },
     "output_type": "display_data"
    }
   ],
   "source": [
    "plt.scatter(X, Y, color='blue')\n",
    "plt.plot(X, Y_ans, '-')"
   ]
  }
 ],
 "metadata": {
  "kernelspec": {
   "display_name": "Python 3 (ipykernel)",
   "language": "python",
   "name": "python3"
  },
  "language_info": {
   "codemirror_mode": {
    "name": "ipython",
    "version": 3
   },
   "file_extension": ".py",
   "mimetype": "text/x-python",
   "name": "python",
   "nbconvert_exporter": "python",
   "pygments_lexer": "ipython3",
   "version": "3.8.9"
  }
 },
 "nbformat": 4,
 "nbformat_minor": 5
}
