{
 "cells": [
  {
   "cell_type": "code",
   "execution_count": 14,
   "id": "054dc8ce",
   "metadata": {},
   "outputs": [],
   "source": [
    "import pandas as pd\n",
    "import numpy as np\n",
    "import matplotlib.pyplot as plt\n",
    "import math"
   ]
  },
  {
   "cell_type": "code",
   "execution_count": 15,
   "id": "b7e22d2c",
   "metadata": {},
   "outputs": [],
   "source": [
    "df = pd.read_csv('data_gn_challenge.csv')"
   ]
  },
  {
   "cell_type": "code",
   "execution_count": 16,
   "id": "225090a6",
   "metadata": {},
   "outputs": [
    {
     "data": {
      "text/html": [
       "<div>\n",
       "<style scoped>\n",
       "    .dataframe tbody tr th:only-of-type {\n",
       "        vertical-align: middle;\n",
       "    }\n",
       "\n",
       "    .dataframe tbody tr th {\n",
       "        vertical-align: top;\n",
       "    }\n",
       "\n",
       "    .dataframe thead th {\n",
       "        text-align: right;\n",
       "    }\n",
       "</style>\n",
       "<table border=\"1\" class=\"dataframe\">\n",
       "  <thead>\n",
       "    <tr style=\"text-align: right;\">\n",
       "      <th></th>\n",
       "      <th>project_id</th>\n",
       "      <th>x</th>\n",
       "      <th>y</th>\n",
       "      <th>y2</th>\n",
       "    </tr>\n",
       "  </thead>\n",
       "  <tbody>\n",
       "    <tr>\n",
       "      <th>0</th>\n",
       "      <td>6</td>\n",
       "      <td>20494.935542</td>\n",
       "      <td>0.999821</td>\n",
       "      <td>0.000179</td>\n",
       "    </tr>\n",
       "    <tr>\n",
       "      <th>1</th>\n",
       "      <td>6</td>\n",
       "      <td>20746.047063</td>\n",
       "      <td>0.999821</td>\n",
       "      <td>0.000179</td>\n",
       "    </tr>\n",
       "    <tr>\n",
       "      <th>2</th>\n",
       "      <td>6</td>\n",
       "      <td>20986.656735</td>\n",
       "      <td>0.999813</td>\n",
       "      <td>0.000187</td>\n",
       "    </tr>\n",
       "    <tr>\n",
       "      <th>3</th>\n",
       "      <td>6</td>\n",
       "      <td>21259.179906</td>\n",
       "      <td>0.999836</td>\n",
       "      <td>0.000164</td>\n",
       "    </tr>\n",
       "    <tr>\n",
       "      <th>4</th>\n",
       "      <td>6</td>\n",
       "      <td>21521.609276</td>\n",
       "      <td>0.999842</td>\n",
       "      <td>0.000158</td>\n",
       "    </tr>\n",
       "  </tbody>\n",
       "</table>\n",
       "</div>"
      ],
      "text/plain": [
       "   project_id             x         y        y2\n",
       "0           6  20494.935542  0.999821  0.000179\n",
       "1           6  20746.047063  0.999821  0.000179\n",
       "2           6  20986.656735  0.999813  0.000187\n",
       "3           6  21259.179906  0.999836  0.000164\n",
       "4           6  21521.609276  0.999842  0.000158"
      ]
     },
     "execution_count": 16,
     "metadata": {},
     "output_type": "execute_result"
    }
   ],
   "source": [
    "df.head()"
   ]
  },
  {
   "cell_type": "code",
   "execution_count": 17,
   "id": "75444506",
   "metadata": {},
   "outputs": [],
   "source": [
    "df.x = df.x/85000"
   ]
  },
  {
   "cell_type": "code",
   "execution_count": 18,
   "id": "e1031eba",
   "metadata": {},
   "outputs": [
    {
     "data": {
      "text/html": [
       "<div>\n",
       "<style scoped>\n",
       "    .dataframe tbody tr th:only-of-type {\n",
       "        vertical-align: middle;\n",
       "    }\n",
       "\n",
       "    .dataframe tbody tr th {\n",
       "        vertical-align: top;\n",
       "    }\n",
       "\n",
       "    .dataframe thead th {\n",
       "        text-align: right;\n",
       "    }\n",
       "</style>\n",
       "<table border=\"1\" class=\"dataframe\">\n",
       "  <thead>\n",
       "    <tr style=\"text-align: right;\">\n",
       "      <th></th>\n",
       "      <th>project_id</th>\n",
       "      <th>x</th>\n",
       "      <th>y</th>\n",
       "      <th>y2</th>\n",
       "    </tr>\n",
       "  </thead>\n",
       "  <tbody>\n",
       "    <tr>\n",
       "      <th>0</th>\n",
       "      <td>6</td>\n",
       "      <td>0.241117</td>\n",
       "      <td>0.999821</td>\n",
       "      <td>0.000179</td>\n",
       "    </tr>\n",
       "    <tr>\n",
       "      <th>1</th>\n",
       "      <td>6</td>\n",
       "      <td>0.244071</td>\n",
       "      <td>0.999821</td>\n",
       "      <td>0.000179</td>\n",
       "    </tr>\n",
       "    <tr>\n",
       "      <th>2</th>\n",
       "      <td>6</td>\n",
       "      <td>0.246902</td>\n",
       "      <td>0.999813</td>\n",
       "      <td>0.000187</td>\n",
       "    </tr>\n",
       "    <tr>\n",
       "      <th>3</th>\n",
       "      <td>6</td>\n",
       "      <td>0.250108</td>\n",
       "      <td>0.999836</td>\n",
       "      <td>0.000164</td>\n",
       "    </tr>\n",
       "    <tr>\n",
       "      <th>4</th>\n",
       "      <td>6</td>\n",
       "      <td>0.253195</td>\n",
       "      <td>0.999842</td>\n",
       "      <td>0.000158</td>\n",
       "    </tr>\n",
       "  </tbody>\n",
       "</table>\n",
       "</div>"
      ],
      "text/plain": [
       "   project_id         x         y        y2\n",
       "0           6  0.241117  0.999821  0.000179\n",
       "1           6  0.244071  0.999821  0.000179\n",
       "2           6  0.246902  0.999813  0.000187\n",
       "3           6  0.250108  0.999836  0.000164\n",
       "4           6  0.253195  0.999842  0.000158"
      ]
     },
     "execution_count": 18,
     "metadata": {},
     "output_type": "execute_result"
    }
   ],
   "source": [
    "df.head()"
   ]
  },
  {
   "cell_type": "code",
   "execution_count": 105,
   "id": "7a419416",
   "metadata": {},
   "outputs": [],
   "source": [
    "df8 = df[df.project_id == 8]"
   ]
  },
  {
   "cell_type": "code",
   "execution_count": 106,
   "id": "76a4fd33",
   "metadata": {},
   "outputs": [
    {
     "data": {
      "text/plain": [
       "<matplotlib.collections.PathCollection at 0x11581ff10>"
      ]
     },
     "execution_count": 106,
     "metadata": {},
     "output_type": "execute_result"
    },
    {
     "data": {
      "image/png": "[encoded data removed]",
      "text/plain": [
       "<Figure size 432x288 with 1 Axes>"
      ]
     },
     "metadata": {
      "needs_background": "light"
     },
     "output_type": "display_data"
    }
   ],
   "source": [
    "plt.scatter(df8.x[0:12], df8.y[0:12])\n",
    "# plt.scatter(df8.x, df8.y)"
   ]
  },
  {
   "cell_type": "code",
   "execution_count": 107,
   "id": "6da78694",
   "metadata": {},
   "outputs": [],
   "source": [
    "def gauss_newton(X, Y, f, de_dp, P_init, P_acc):\n",
    "    assert len(X) == len(Y), \"The length of X and Y should match\"\n",
    "    assert len(de_dp) == len(P_init), \"The number of parameters and partial derivatives should match\"\n",
    "    \n",
    "    J = np.zeros(shape=(len(X), len(de_dp)))\n",
    "    E = np.zeros(shape=(len(X), 1))\n",
    "    \n",
    "    P_cur = P_init\n",
    "    \n",
    "    while True:\n",
    "        for i in range(len(X)):\n",
    "            for j in range(len(de_dp)):\n",
    "                J[i][j] = de_dp[j](P_cur, X[i])\n",
    "            E[i] = Y[i] - f(P_cur, X[i])\n",
    "\n",
    "        pinvJ = np.linalg.pinv(J)\n",
    "        step = np.matmul(pinvJ, E)\n",
    "        P_next = np.subtract(P_cur, step)\n",
    "        P_abs_diff = np.linalg.norm(np.subtract(P_cur, P_next))\n",
    "        if P_abs_diff < P_acc:\n",
    "            return P_next\n",
    "        P_cur = P_next "
   ]
  },
  {
   "cell_type": "code",
   "execution_count": 108,
   "id": "436a856c",
   "metadata": {},
   "outputs": [],
   "source": [
    "# P - the vector of parameters to optimize over\n",
    "\n",
    "def f(P, x):\n",
    "    a, b, c = P\n",
    "    return a * math.exp(b * (x + a)) + c\n",
    "\n",
    "# e = y - f(P, x)\n",
    "    \n",
    "def de_da(P, x):\n",
    "    a, b, c = P\n",
    "    return - math.exp(b * (x + a)) * (a * b + 1)\n",
    "\n",
    "def de_db(P, x):\n",
    "    a, b, c = P\n",
    "    return - a * a * math.exp(b * (x + a))\n",
    "\n",
    "def de_dc(P, x):\n",
    "    return -1."
   ]
  },
  {
   "cell_type": "code",
   "execution_count": 126,
   "id": "d86922b4",
   "metadata": {},
   "outputs": [
    {
     "name": "stdout",
     "output_type": "stream",
     "text": [
      "[[ -0.09462805]\n",
      " [-19.99998218]\n",
      " [  0.99979408]]\n"
     ]
    }
   ],
   "source": [
    "X = df8.x[0:12].tolist()\n",
    "Y = df8.y[0:12].tolist()\n",
    "P_init = np.array([[-0.1], [-20.], [1.]])\n",
    "de_dp = [de_da, de_db, de_dc]\n",
    "P_acc = 1e-14\n",
    "P_ans = gauss_newton(X, Y, f, de_dp, P_init, P_acc)\n",
    "print(P_ans)"
   ]
  },
  {
   "cell_type": "code",
   "execution_count": 127,
   "id": "e3a8f3ad",
   "metadata": {},
   "outputs": [],
   "source": [
    "Y_ans = [f(P_ans, x) for x in X]"
   ]
  },
  {
   "cell_type": "code",
   "execution_count": 128,
   "id": "3e02bd5e",
   "metadata": {},
   "outputs": [
    {
     "data": {
      "text/plain": [
       "<matplotlib.collections.PathCollection at 0x1159e42b0>"
      ]
     },
     "execution_count": 128,
     "metadata": {},
     "output_type": "execute_result"
    },
    {
     "data": {
      "image/png": "[encoded data removed]",
      "text/plain": [
       "<Figure size 432x288 with 1 Axes>"
      ]
     },
     "metadata": {
      "needs_background": "light"
     },
     "output_type": "display_data"
    }
   ],
   "source": [
    "plt.scatter(X, Y)\n",
    "plt.scatter(X, Y_ans)"
   ]
  },
  {
   "cell_type": "code",
   "execution_count": 129,
   "id": "232137e2",
   "metadata": {},
   "outputs": [
    {
     "name": "stdout",
     "output_type": "stream",
     "text": [
      "[0.94429536]\n"
     ]
    }
   ],
   "source": [
    "y_mean = np.mean(Y)\n",
    "SS_res = 0\n",
    "SS_tot = 0\n",
    "for i in range(len(Y)):\n",
    "    SS_res += (Y[i] - Y_ans[i]) ** 2\n",
    "    SS_tot += (Y[i] - y_mean) ** 2\n",
    "R2 = 1 - SS_res / SS_tot\n",
    "print(R2)"
   ]
  }
 ],
 "metadata": {
  "kernelspec": {
   "display_name": "Python 3 (ipykernel)",
   "language": "python",
   "name": "python3"
  },
  "language_info": {
   "codemirror_mode": {
    "name": "ipython",
    "version": 3
   },
   "file_extension": ".py",
   "mimetype": "text/x-python",
   "name": "python",
   "nbconvert_exporter": "python",
   "pygments_lexer": "ipython3",
   "version": "3.8.9"
  }
 },
 "nbformat": 4,
 "nbformat_minor": 5
}
